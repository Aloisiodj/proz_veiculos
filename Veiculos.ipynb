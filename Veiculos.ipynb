{
  "nbformat": 4,
  "nbformat_minor": 0,
  "metadata": {
    "colab": {
      "provenance": [],
      "authorship_tag": "ABX9TyPlprBYrBWBtDnYFHSw7val",
      "include_colab_link": true
    },
    "kernelspec": {
      "name": "python3",
      "display_name": "Python 3"
    },
    "language_info": {
      "name": "python"
    }
  },
  "cells": [
    {
      "cell_type": "markdown",
      "metadata": {
        "id": "view-in-github",
        "colab_type": "text"
      },
      "source": [
        "<a href=\"https://colab.research.google.com/github/Aloisiodj/proz_veiculos/blob/main/Veiculos.ipynb\" target=\"_parent\"><img src=\"https://colab.research.google.com/assets/colab-badge.svg\" alt=\"Open In Colab\"/></a>"
      ]
    },
    {
      "cell_type": "code",
      "execution_count": null,
      "metadata": {
        "id": "g1hPK3-Blp0W"
      },
      "outputs": [],
      "source": [
        "dados = False\n",
        "while(dados == False):\n",
        "  try:\n",
        "    rodas = int(input(\"Quantas rodas tem o veículo? \"))\n",
        "    if(rodas <= 3):\n",
        "      print(\"Categoria A\")\n",
        "      dados = True\n",
        "    else:\n",
        "      peso = int(input(\"Quantos kg o veículo pesa? \"))\n",
        "      lugares = int(input(\"Quantos lugares tem o veículo? \"))\n",
        "    if(rodas == 4) and (peso <= 3500) and (lugares <= 8):\n",
        "      print(\"Categoria B\")\n",
        "      dados = True\n",
        "    elif(rodas >= 4) and (peso <= 6000) and (lugares <= 8):\n",
        "      print(\"Categoria C\")\n",
        "      dados = True\n",
        "    elif(rodas >= 4) and (lugares > 8):\n",
        "      print(\"Categoria D\")\n",
        "      dados = True\n",
        "    elif(rodas >= 4) and (peso > 6000):\n",
        "      print(\"Categoria E\")\n",
        "      dados = True\n",
        "  except:\n",
        "    print(\"Insira somente números inteiros\")\n"
      ]
    }
  ]
}